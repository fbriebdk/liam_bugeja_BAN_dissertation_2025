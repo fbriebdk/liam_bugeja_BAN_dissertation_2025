{
 "cells": [
  {
   "cell_type": "code",
   "execution_count": null,
   "metadata": {},
   "outputs": [],
   "source": [
    "import pandas as pd\n",
    "import numpy as np\n",
    "from dataset_versioning import save_dataset_version  "
   ]
  },
  {
   "cell_type": "code",
   "execution_count": 2,
   "metadata": {},
   "outputs": [
    {
     "name": "stdout",
     "output_type": "stream",
     "text": [
      "         Date   HomeTeam       AwayTeam  FTHG  FTAG  FTR  HTHG  HTAG  HTR  HS  \\\n",
      "0  19/05/2024    Arsenal        Everton     2     1    0     1     1    1  26   \n",
      "1  19/05/2024  Brentford      Newcastle     2     4    2     0     3    2  10   \n",
      "2  19/05/2024   Brighton     Man United     0     2    2     0     0    1  17   \n",
      "3  19/05/2024    Burnley  Nott'm Forest     1     2    2     0     2    2  20   \n",
      "4  19/05/2024    Chelsea    Bournemouth     2     1    0     1     0    0  16   \n",
      "\n",
      "   ...       AAS       ADS  Home_Overall  Away_Overall  TravelDistance  \\\n",
      "0  ...  0.763359  1.070707            82            77      288.384207   \n",
      "1  ...  0.996384  1.077441            77            81      397.511501   \n",
      "2  ...  1.076738  0.895623            77            82      326.069081   \n",
      "3  ...  0.265167  0.545455            74            76      119.316643   \n",
      "4  ...  0.498192  0.787879            81            74      141.818451   \n",
      "\n",
      "   HomeProb  DrawProb  AwayProb  HomeMomentum  AwayMomentum  \n",
      "0  0.818569  0.119120  0.062311           3.0           0.0  \n",
      "1  0.326078  0.242088  0.431833           0.0           3.0  \n",
      "2  0.441779  0.233251  0.324970           0.0           3.0  \n",
      "3  0.330535  0.256297  0.413168           0.0           3.0  \n",
      "4  0.660229  0.179950  0.159822           3.0           0.0  \n",
      "\n",
      "[5 rows x 36 columns]\n"
     ]
    }
   ],
   "source": [
    "# Load the cleaned dataset (Change to your specific file path)\n",
    "file_path = 'datasets_versions/EPL_dataset_8_20250227.csv'\n",
    "data = pd.read_csv(file_path)\n",
    "\n",
    "# Check the first few rows\n",
    "print(data.head())"
   ]
  },
  {
   "cell_type": "code",
   "execution_count": 3,
   "metadata": {},
   "outputs": [],
   "source": [
    "# Compares team attack vs opponent defense, which provides a key metric in predicting goal margins and match outcomes.\n",
    "data['ExpectedGoalDifference'] = (data['HAS'] - data['ADS']) - (data['AAS'] - data['HDS'])"
   ]
  },
  {
   "cell_type": "code",
   "execution_count": 6,
   "metadata": {},
   "outputs": [
    {
     "name": "stdout",
     "output_type": "stream",
     "text": [
      "         Date   HomeTeam       AwayTeam  FTHG  FTAG  FTR  HTHG  HTAG  HTR  HS  \\\n",
      "0  19/05/2024    Arsenal        Everton     2     1    0     1     1    1  26   \n",
      "1  19/05/2024  Brentford      Newcastle     2     4    2     0     3    2  10   \n",
      "2  19/05/2024   Brighton     Man United     0     2    2     0     0    1  17   \n",
      "3  19/05/2024    Burnley  Nott'm Forest     1     2    2     0     2    2  20   \n",
      "4  19/05/2024    Chelsea    Bournemouth     2     1    0     1     0    0  16   \n",
      "\n",
      "   ...       ADS  Home_Overall  Away_Overall  TravelDistance  HomeProb  \\\n",
      "0  ...  1.070707            82            77      288.384207  0.818569   \n",
      "1  ...  1.077441            77            81      397.511501  0.326078   \n",
      "2  ...  0.895623            77            82      326.069081  0.441779   \n",
      "3  ...  0.545455            74            76      119.316643  0.330535   \n",
      "4  ...  0.787879            81            74      141.818451  0.660229   \n",
      "\n",
      "   DrawProb  AwayProb  HomeMomentum  AwayMomentum  ExpectedGoalDifference  \n",
      "0  0.119120  0.062311           3.0           0.0                0.313441  \n",
      "1  0.242088  0.431833           0.0           3.0               -0.908120  \n",
      "2  0.233251  0.324970           0.0           3.0               -0.146165  \n",
      "3  0.256297  0.413168           0.0           3.0                0.642601  \n",
      "4  0.179950  0.159822           3.0           0.0                0.616409  \n",
      "\n",
      "[5 rows x 37 columns]\n"
     ]
    }
   ],
   "source": [
    "print(data.head(5))"
   ]
  },
  {
   "cell_type": "code",
   "execution_count": 5,
   "metadata": {},
   "outputs": [
    {
     "name": "stdout",
     "output_type": "stream",
     "text": [
      "Dataset saved as: datasets_versions\\EPL_dataset_9_20250305.csv\n"
     ]
    }
   ],
   "source": [
    "# Save the dataset with the new TravelDistance column\n",
    "save_dataset_version(data, \"9\")"
   ]
  }
 ],
 "metadata": {
  "kernelspec": {
   "display_name": "aci",
   "language": "python",
   "name": "python3"
  },
  "language_info": {
   "codemirror_mode": {
    "name": "ipython",
    "version": 3
   },
   "file_extension": ".py",
   "mimetype": "text/x-python",
   "name": "python",
   "nbconvert_exporter": "python",
   "pygments_lexer": "ipython3",
   "version": "3.10.16"
  }
 },
 "nbformat": 4,
 "nbformat_minor": 2
}
