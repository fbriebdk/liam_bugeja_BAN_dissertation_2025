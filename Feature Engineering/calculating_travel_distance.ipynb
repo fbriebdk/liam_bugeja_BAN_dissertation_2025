{
 "cells": [
  {
   "cell_type": "code",
   "execution_count": null,
   "metadata": {},
   "outputs": [],
   "source": [
    "import pandas as pd\n",
    "import numpy as np\n",
    "from math import radians, sin, cos, sqrt, atan2\n",
    "from dataset_versioning import save_dataset_version "
   ]
  },
  {
   "cell_type": "code",
   "execution_count": null,
   "metadata": {},
   "outputs": [
    {
     "name": "stdout",
     "output_type": "stream",
     "text": [
      "    HomeTeam       AwayTeam  FTHG  FTAG  FTR  HTHG  HTAG  HTR  HS  AS  ...  \\\n",
      "0    Arsenal        Everton     2     1    0     1     1    1  26   5  ...   \n",
      "1  Brentford      Newcastle     2     4    2     0     3    2  10  12  ...   \n",
      "2   Brighton     Man United     0     2    2     0     0    1  17  11  ...   \n",
      "3    Burnley  Nott'm Forest     1     2    2     0     2    2  20  12  ...   \n",
      "4    Chelsea    Bournemouth     2     1    0     1     0    0  16  22  ...   \n",
      "\n",
      "   AR  AvgH  AvgD   AvgA       HAS       HDS       AAS       ADS  \\\n",
      "0   0  1.17  8.04  15.37  1.319865  0.827642  0.763359  1.070707   \n",
      "1   0  2.94  3.96   2.22  0.579125  0.586581  0.996384  1.077441   \n",
      "2   0  2.17  4.11   2.95  0.861953  0.964243  1.076738  0.895623   \n",
      "3   0  2.90  3.74   2.32  0.505051  0.948172  0.265167  0.545455   \n",
      "4   0  1.45  5.32   5.99  1.090909  0.811571  0.498192  0.787879   \n",
      "\n",
      "   Home_Overall  Away_Overall  \n",
      "0            82            77  \n",
      "1            77            81  \n",
      "2            77            82  \n",
      "3            74            76  \n",
      "4            81            74  \n",
      "\n",
      "[5 rows x 29 columns]\n"
     ]
    }
   ],
   "source": [
    "# Load the cleaned dataset (Change to your specific file path)\n",
    "file_path = 'datasets_versions/EPL_dataset_5_20250207.csv'\n",
    "data = pd.read_csv(file_path)\n",
    "\n",
    "# Check the first few rows\n",
    "print(data.head())\n"
   ]
  },
  {
   "cell_type": "code",
   "execution_count": 8,
   "metadata": {},
   "outputs": [],
   "source": [
    "# Coordinates for each EPL team's stadium (latitude, longitude)\n",
    "stadium_coordinates = {\n",
    "    \"Arsenal\": (51.554888, -0.108438),\n",
    "    \"Aston Villa\": (52.509026, -1.884605),\n",
    "    \"Bournemouth\": (50.735159, -1.838127),\n",
    "    \"Brentford\": (51.490630, -0.288768),\n",
    "    \"Brighton\": (50.861822, -0.083278),\n",
    "    \"Burnley\": (53.789159, -2.230020),\n",
    "    \"Chelsea\": (51.481663, -0.190956),\n",
    "    \"Crystal Palace\": (51.398330, -0.085491),\n",
    "    \"Everton\": (53.438787, -3.037248),\n",
    "    \"Fulham\": (51.474774, -0.221551),\n",
    "    \"Leeds\": (53.777637, -1.572243),\n",
    "    \"Leicester\": (52.620370, -1.142196),\n",
    "    \"Liverpool\": (53.430829, -2.960830),\n",
    "    \"Luton\": (51.884327, -0.422142),\n",
    "    \"Man City\": (53.483135, -2.200394),\n",
    "    \"Man United\": (53.463059, -2.291340),\n",
    "    \"Newcastle\": (54.975556, -1.621667),\n",
    "    \"Nott'm Forest\": (52.939000, -1.132778),\n",
    "    \"Sheffield United\": (53.370280, -1.470010),\n",
    "    \"Tottenham\": (51.604301, -0.066880),\n",
    "    \"West Ham\": (51.538709, -0.016575),\n",
    "    \"Wolves\": (52.590144, -2.130939),\n",
    "    \"Southampton\": (50.905875, -1.391195),\n",
    "    \"Watford\": (51.650774, -0.401572),\n",
    "    \"West Brom\": (52.509030, -1.964349),\n",
    "    \"Norwich\": (52.622014, 1.308868)\n",
    "}"
   ]
  },
  {
   "cell_type": "code",
   "execution_count": null,
   "metadata": {},
   "outputs": [
    {
     "name": "stdout",
     "output_type": "stream",
     "text": [
      "    HomeTeam       AwayTeam  TravelDistance\n",
      "0    Arsenal        Everton      288.384207\n",
      "1  Brentford      Newcastle      397.511501\n",
      "2   Brighton     Man United      326.069081\n",
      "3    Burnley  Nott'm Forest      119.316643\n",
      "4    Chelsea    Bournemouth      141.818451\n"
     ]
    }
   ],
   "source": [
    "# Haversine formula to calculate distance between two coordinates\n",
    "def haversine(coord1, coord2):\n",
    "    R = 6371  # earth radius in kms\n",
    "    lat1, lon1 = coord1\n",
    "    lat2, lon2 = coord2\n",
    "    lat1, lon1, lat2, lon2 = map(radians, [lat1, lon1, lat2, lon2])\n",
    "\n",
    "    # Haversine formula\n",
    "    dlat = lat2 - lat1\n",
    "    dlon = lon2 - lon1\n",
    "    a = sin(dlat / 2)**2 + cos(lat1) * cos(lat2) * sin(dlon / 2)**2\n",
    "    c = 2 * atan2(sqrt(a), sqrt(1 - a))\n",
    "    distance = R * c\n",
    "    return distance\n",
    "\n",
    "# Calculate travel distance for each match\n",
    "def calculate_travel_distance(row):\n",
    "    home_team = row['HomeTeam']\n",
    "    away_team = row['AwayTeam']\n",
    "    if home_team in stadium_coordinates and away_team in stadium_coordinates:\n",
    "        home_coord = stadium_coordinates[home_team]\n",
    "        away_coord = stadium_coordinates[away_team]\n",
    "        return haversine(home_coord, away_coord)\n",
    "    else:\n",
    "        return np.nan  # Return NaN if coordinates are not found\n",
    "\n",
    "# Apply the function to calculate travel distance\n",
    "data['TravelDistance'] = data.apply(calculate_travel_distance, axis=1)\n",
    "\n",
    "# Check if the new feature is added\n",
    "print(data[['HomeTeam', 'AwayTeam', 'TravelDistance']].head())\n"
   ]
  },
  {
   "cell_type": "code",
   "execution_count": 10,
   "metadata": {},
   "outputs": [
    {
     "name": "stdout",
     "output_type": "stream",
     "text": [
      "Dataset saved as: datasets_versions\\EPL_dataset_travel_distance_20250224.csv\n"
     ]
    }
   ],
   "source": [
    "# Save the dataset with the new TravelDistance column\n",
    "save_dataset_version(data, \"travel_distance\")"
   ]
  }
 ],
 "metadata": {
  "kernelspec": {
   "display_name": "aci",
   "language": "python",
   "name": "python3"
  },
  "language_info": {
   "codemirror_mode": {
    "name": "ipython",
    "version": 3
   },
   "file_extension": ".py",
   "mimetype": "text/x-python",
   "name": "python",
   "nbconvert_exporter": "python",
   "pygments_lexer": "ipython3",
   "version": "3.10.4"
  }
 },
 "nbformat": 4,
 "nbformat_minor": 2
}
