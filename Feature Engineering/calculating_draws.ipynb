{
 "cells": [
  {
   "cell_type": "code",
   "execution_count": null,
   "metadata": {},
   "outputs": [],
   "source": [
    "import pandas as pd\n",
    "import numpy as np\n",
    "from dataset_versioning import save_dataset_version  "
   ]
  },
  {
   "cell_type": "code",
   "execution_count": null,
   "metadata": {},
   "outputs": [
    {
     "name": "stdout",
     "output_type": "stream",
     "text": [
      "    HomeTeam       AwayTeam  FTHG  FTAG  FTR  HTHG  HTAG  HTR  HS  AS  ...  \\\n",
      "0    Arsenal        Everton     2     1    0     1     1    1  26   5  ...   \n",
      "1  Brentford      Newcastle     2     4    2     0     3    2  10  12  ...   \n",
      "2   Brighton     Man United     0     2    2     0     0    1  17  11  ...   \n",
      "3    Burnley  Nott'm Forest     1     2    2     0     2    2  20  12  ...   \n",
      "4    Chelsea    Bournemouth     2     1    0     1     0    0  16  22  ...   \n",
      "\n",
      "   AvgH  AvgD   AvgA       HAS       HDS       AAS       ADS  Home_Overall  \\\n",
      "0  1.17  8.04  15.37  1.319865  0.827642  0.763359  1.070707            82   \n",
      "1  2.94  3.96   2.22  0.579125  0.586581  0.996384  1.077441            77   \n",
      "2  2.17  4.11   2.95  0.861953  0.964243  1.076738  0.895623            77   \n",
      "3  2.90  3.74   2.32  0.505051  0.948172  0.265167  0.545455            74   \n",
      "4  1.45  5.32   5.99  1.090909  0.811571  0.498192  0.787879            81   \n",
      "\n",
      "   Away_Overall  TravelDistance  \n",
      "0            77      288.384207  \n",
      "1            81      397.511501  \n",
      "2            82      326.069081  \n",
      "3            76      119.316643  \n",
      "4            74      141.818451  \n",
      "\n",
      "[5 rows x 30 columns]\n"
     ]
    }
   ],
   "source": [
    "# Load the cleaned dataset (Change to  specific file path)\n",
    "file_path = 'datasets_versions/EPL_dataset_6_20250224.csv'\n",
    "data = pd.read_csv(file_path)\n",
    "\n",
    "# Check the first few rows\n",
    "print(data.head())"
   ]
  },
  {
   "cell_type": "code",
   "execution_count": null,
   "metadata": {},
   "outputs": [],
   "source": [
    "# Converting decimal odds into probabilities\n",
    "data['HomeProb'] = 1 / data['AvgH']\n",
    "data['DrawProb'] = 1 / data['AvgD']\n",
    "data['AwayProb'] = 1 / data['AvgA']\n",
    "\n",
    "# Normalizing probabilities\n",
    "# Ensuring that the probabilities sum up to 1, as bookmakers probabilities might not be the most representative of the actual odds\n",
    "total_prob = data['HomeProb'] + data['DrawProb'] + data['AwayProb']\n",
    "data['HomeProb'] /= total_prob\n",
    "data['DrawProb'] /= total_prob\n",
    "data['AwayProb'] /= total_prob"
   ]
  },
  {
   "cell_type": "code",
   "execution_count": 8,
   "metadata": {},
   "outputs": [
    {
     "name": "stdout",
     "output_type": "stream",
     "text": [
      "Dataset saved as: datasets_versions\\EPL_dataset_7_20250226.csv\n"
     ]
    }
   ],
   "source": [
    "# Save the dataset with the new TravelDistance column\n",
    "save_dataset_version(data, \"7\")"
   ]
  }
 ],
 "metadata": {
  "kernelspec": {
   "display_name": "aci",
   "language": "python",
   "name": "python3"
  },
  "language_info": {
   "codemirror_mode": {
    "name": "ipython",
    "version": 3
   },
   "file_extension": ".py",
   "mimetype": "text/x-python",
   "name": "python",
   "nbconvert_exporter": "python",
   "pygments_lexer": "ipython3",
   "version": "3.10.4"
  }
 },
 "nbformat": 4,
 "nbformat_minor": 2
}
