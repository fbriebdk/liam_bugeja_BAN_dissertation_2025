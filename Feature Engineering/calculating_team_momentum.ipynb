{
 "cells": [
  {
   "cell_type": "code",
   "execution_count": null,
   "metadata": {},
   "outputs": [],
   "source": [
    "import pandas as pd\n",
    "import numpy as np\n",
    "from dataset_versioning import save_dataset_version "
   ]
  },
  {
   "cell_type": "code",
   "execution_count": 12,
   "metadata": {},
   "outputs": [
    {
     "name": "stdout",
     "output_type": "stream",
     "text": [
      "    HomeTeam       AwayTeam  FTHG  FTAG  FTR  HTHG  HTAG  HTR  HS  AS  ...  \\\n",
      "0    Arsenal        Everton     2     1    0     1     1    1  26   5  ...   \n",
      "1  Brentford      Newcastle     2     4    2     0     3    2  10  12  ...   \n",
      "2   Brighton     Man United     0     2    2     0     0    1  17  11  ...   \n",
      "3    Burnley  Nott'm Forest     1     2    2     0     2    2  20  12  ...   \n",
      "4    Chelsea    Bournemouth     2     1    0     1     0    0  16  22  ...   \n",
      "\n",
      "        HAS       HDS       AAS       ADS  Home_Overall  Away_Overall  \\\n",
      "0  1.319865  0.827642  0.763359  1.070707            82            77   \n",
      "1  0.579125  0.586581  0.996384  1.077441            77            81   \n",
      "2  0.861953  0.964243  1.076738  0.895623            77            82   \n",
      "3  0.505051  0.948172  0.265167  0.545455            74            76   \n",
      "4  1.090909  0.811571  0.498192  0.787879            81            74   \n",
      "\n",
      "   TravelDistance  HomeProb  DrawProb  AwayProb  \n",
      "0      288.384207  0.818569  0.119120  0.062311  \n",
      "1      397.511501  0.326078  0.242088  0.431833  \n",
      "2      326.069081  0.441779  0.233251  0.324970  \n",
      "3      119.316643  0.330535  0.256297  0.413168  \n",
      "4      141.818451  0.660229  0.179950  0.159822  \n",
      "\n",
      "[5 rows x 33 columns]\n"
     ]
    }
   ],
   "source": [
    "# Load the cleaned dataset (Change to your specific file path)\n",
    "file_path = 'datasets_versions/EPL_dataset_7_20250226.csv'\n",
    "data = pd.read_csv(file_path)\n",
    "\n",
    "# Check the first few rows\n",
    "print(data.head())"
   ]
  },
  {
   "cell_type": "code",
   "execution_count": 13,
   "metadata": {},
   "outputs": [],
   "source": [
    "### Assign Points Based on FTR\n",
    "def assign_points(row):\n",
    "    if row['FTR'] == 0:  # Home win\n",
    "        return (3, 0)\n",
    "    elif row['FTR'] == 2:  # Away win\n",
    "        return (0, 3)\n",
    "    else:  # Draw\n",
    "        return (1, 1)\n",
    "\n",
    "data[['HomePoints', 'AwayPoints']] = data.apply(assign_points, axis=1, result_type='expand')"
   ]
  },
  {
   "cell_type": "code",
   "execution_count": 14,
   "metadata": {},
   "outputs": [],
   "source": [
    "# Uses a rolling 5-match average of points, which indicates recent form which is crucial in predicting match results \n",
    "data['HomeMomentum'] = data.groupby('HomeTeam')['HomePoints'].transform(lambda x: x.rolling(5, min_periods=1).mean())\n",
    "data['AwayMomentum'] = data.groupby('AwayTeam')['AwayPoints'].transform(lambda x: x.rolling(5, min_periods=1).mean())"
   ]
  },
  {
   "cell_type": "code",
   "execution_count": 15,
   "metadata": {},
   "outputs": [],
   "source": [
    "# Drop HomePoints and AwayPoints columns\n",
    "data.drop(columns=['HomePoints', 'AwayPoints'], inplace=True)"
   ]
  },
  {
   "cell_type": "code",
   "execution_count": 16,
   "metadata": {},
   "outputs": [
    {
     "name": "stdout",
     "output_type": "stream",
     "text": [
      "            HomeTeam          AwayTeam  FTHG  FTAG  FTR  HTHG  HTAG  HTR  HS  \\\n",
      "0            Arsenal           Everton     2     1    0     1     1    1  26   \n",
      "1          Brentford         Newcastle     2     4    2     0     3    2  10   \n",
      "2           Brighton        Man United     0     2    2     0     0    1  17   \n",
      "3            Burnley     Nott'm Forest     1     2    2     0     2    2  20   \n",
      "4            Chelsea       Bournemouth     2     1    0     1     0    0  16   \n",
      "5     Crystal Palace       Aston Villa     5     0    0     2     0    0  15   \n",
      "6          Liverpool            Wolves     2     0    0     2     0    0  36   \n",
      "7              Luton            Fulham     2     4    2     1     2    2  15   \n",
      "8           Man City          West Ham     3     1    0     2     1    0  28   \n",
      "9   Sheffield United         Tottenham     0     3    2     0     1    2   6   \n",
      "10          Brighton           Chelsea     1     2    2     0     1    2  12   \n",
      "11        Man United         Newcastle     3     2    0     1     0    0  17   \n",
      "12         Tottenham          Man City     0     2    2     0     0    1  10   \n",
      "13       Aston Villa         Liverpool     3     3    1     1     2    2  19   \n",
      "14        Man United           Arsenal     0     1    2     0     1    2  14   \n",
      "15            Fulham          Man City     0     4    2     0     1    2   1   \n",
      "16       Bournemouth         Brentford     1     2    2     0     0    1  13   \n",
      "17           Everton  Sheffield United     1     0    0     1     0    0  15   \n",
      "18         Newcastle          Brighton     1     1    1     1     1    1  18   \n",
      "19         Tottenham           Burnley     2     1    0     1     1    1  21   \n",
      "20          West Ham             Luton     3     1    0     0     1    2  24   \n",
      "21            Wolves    Crystal Palace     1     3    2     0     2    2  13   \n",
      "22     Nott'm Forest           Chelsea     2     3    2     1     1    1  20   \n",
      "23    Crystal Palace        Man United     4     0    0     2     0    0  18   \n",
      "24          Brighton       Aston Villa     1     0    0     0     0    1  15   \n",
      "25           Chelsea          West Ham     5     0    0     3     0    0  25   \n",
      "26         Liverpool         Tottenham     4     2    0     2     0    0  25   \n",
      "27           Arsenal       Bournemouth     3     0    0     1     0    0  25   \n",
      "28         Brentford            Fulham     0     0    1     0     0    1   7   \n",
      "29           Burnley         Newcastle     1     4    2     0     3    2  17   \n",
      "\n",
      "    AS  ...       AAS       ADS  Home_Overall  Away_Overall  TravelDistance  \\\n",
      "0    5  ...  0.763359  1.070707            82            77      288.384207   \n",
      "1   12  ...  0.996384  1.077441            77            81      397.511501   \n",
      "2   11  ...  1.076738  0.895623            77            82      326.069081   \n",
      "3   12  ...  0.265167  0.545455            74            76      119.316643   \n",
      "4   22  ...  0.498192  0.787879            81            74      141.818451   \n",
      "5    8  ...  0.916031  0.936027            76            80      174.500709   \n",
      "6    4  ...  0.747288  0.936027            83            77      108.723417   \n",
      "7   15  ...  0.530333  0.579125            72            77       47.593926   \n",
      "8    3  ...  0.972278  1.050505            85            78      261.866198   \n",
      "9   18  ...  1.269586  0.996633            77            81      218.133090   \n",
      "10  13  ...  1.253515  0.888889            77            81       69.330781   \n",
      "11  21  ...  0.996384  1.077441            82            81      173.723880   \n",
      "12   8  ...  1.647248  0.552189            81            85      253.868089   \n",
      "13  14  ...  1.470470  0.740741            80            83      125.297528   \n",
      "14  11  ...  1.245480  0.700337            82            82      258.516907   \n",
      "15  16  ...  1.647248  0.552189            77            85      260.421096   \n",
      "16  11  ...  0.610687  0.632997            74            77      136.941833   \n",
      "17  13  ...  0.313379  0.720539            77            72      104.169166   \n",
      "18  15  ...  0.964243  0.936027            81            77      468.879430   \n",
      "19   7  ...  0.610687  0.794613            81            74      283.290627   \n",
      "20   4  ...  0.192849  0.323232            78            72       47.515659   \n",
      "21  13  ...  0.795500  1.016835            77            76      192.795187   \n",
      "22  12  ...  1.253515  0.888889            76            81      174.288277   \n",
      "23   7  ...  1.076738  0.895623            76            82      273.970222   \n",
      "24   2  ...  0.916031  0.936027            77            80      221.273050   \n",
      "25  13  ...  0.972278  1.050505            81            78       13.633557   \n",
      "26  11  ...  1.269586  0.996633            83            81      282.079909   \n",
      "27   7  ...  0.498192  0.787879            82            74      151.212005   \n",
      "28  15  ...  0.530333  0.579125            77            77        4.977294   \n",
      "29  23  ...  0.996384  1.077441            74            81      137.676507   \n",
      "\n",
      "    HomeProb  DrawProb  AwayProb  HomeMomentum  AwayMomentum  \n",
      "0   0.818569  0.119120  0.062311           3.0           0.0  \n",
      "1   0.326078  0.242088  0.431833           0.0           3.0  \n",
      "2   0.441779  0.233251  0.324970           0.0           3.0  \n",
      "3   0.330535  0.256297  0.413168           0.0           3.0  \n",
      "4   0.660229  0.179950  0.159822           3.0           0.0  \n",
      "5   0.513755  0.224468  0.261777           3.0           0.0  \n",
      "6   0.824467  0.109803  0.065731           3.0           0.0  \n",
      "7   0.328013  0.242481  0.429506           0.0           3.0  \n",
      "8   0.873903  0.082022  0.044076           3.0           0.0  \n",
      "9   0.130990  0.158750  0.710259           0.0           3.0  \n",
      "10  0.284663  0.240429  0.474908           0.0           3.0  \n",
      "11  0.351814  0.237736  0.410450           3.0           1.5  \n",
      "12  0.138826  0.163021  0.698153           0.0           3.0  \n",
      "13  0.230468  0.210207  0.559324           1.0           1.0  \n",
      "14  0.135487  0.174408  0.690105           1.5           3.0  \n",
      "15  0.077963  0.136020  0.786017           0.0           3.0  \n",
      "16  0.484977  0.240665  0.274358           0.0           3.0  \n",
      "17  0.684663  0.186848  0.128489           3.0           0.0  \n",
      "18  0.602746  0.199245  0.198010           1.0           1.0  \n",
      "19  0.709824  0.159445  0.130732           1.5           0.0  \n",
      "20  0.527560  0.221746  0.250694           3.0           0.0  \n",
      "21  0.336393  0.274098  0.389508           0.0           3.0  \n",
      "22  0.283257  0.243716  0.473026           0.0           3.0  \n",
      "23  0.402249  0.254615  0.343137           3.0           1.5  \n",
      "24  0.352010  0.253970  0.394020           1.0           0.0  \n",
      "25  0.580417  0.210481  0.209102           3.0           0.0  \n",
      "26  0.647172  0.182094  0.170734           3.0           1.5  \n",
      "27  0.798534  0.126250  0.075215           3.0           0.0  \n",
      "28  0.452447  0.252418  0.295135           0.5           2.0  \n",
      "29  0.283888  0.241091  0.475021           0.0           2.0  \n",
      "\n",
      "[30 rows x 35 columns]\n"
     ]
    }
   ],
   "source": [
    "print(data.head(30))"
   ]
  },
  {
   "cell_type": "code",
   "execution_count": 17,
   "metadata": {},
   "outputs": [
    {
     "name": "stdout",
     "output_type": "stream",
     "text": [
      "Dataset saved as: datasets_versions\\EPL_dataset_8_20250227.csv\n"
     ]
    }
   ],
   "source": [
    "# Save the dataset with the new TravelDistance column\n",
    "save_dataset_version(data, \"8\")"
   ]
  }
 ],
 "metadata": {
  "kernelspec": {
   "display_name": "aci",
   "language": "python",
   "name": "python3"
  },
  "language_info": {
   "codemirror_mode": {
    "name": "ipython",
    "version": 3
   },
   "file_extension": ".py",
   "mimetype": "text/x-python",
   "name": "python",
   "nbconvert_exporter": "python",
   "pygments_lexer": "ipython3",
   "version": "3.10.16"
  }
 },
 "nbformat": 4,
 "nbformat_minor": 2
}
