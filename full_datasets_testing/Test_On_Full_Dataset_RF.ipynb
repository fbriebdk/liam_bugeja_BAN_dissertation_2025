{
 "cells": [
  {
   "cell_type": "markdown",
   "metadata": {},
   "source": [
    "## Data Preparation"
   ]
  },
  {
   "cell_type": "code",
   "execution_count": 1,
   "metadata": {},
   "outputs": [],
   "source": [
    "import pandas as pd\n",
    "import numpy as np\n",
    "from sklearn.model_selection import train_test_split\n",
    "from sklearn.preprocessing import LabelEncoder, StandardScaler\n",
    "from sklearn.ensemble import RandomForestClassifier\n",
    "from sklearn.linear_model import LogisticRegression\n",
    "from sklearn.metrics import classification_report, confusion_matrix, accuracy_score\n",
    "from sklearn.model_selection import GridSearchCV\n",
    "from dataset_versioning import save_dataset_version, clean_dataset"
   ]
  },
  {
   "cell_type": "code",
   "execution_count": 2,
   "metadata": {},
   "outputs": [],
   "source": [
    "# Loading and inspecting the data\n",
    "file_path = 'datasets_versions\\EPL_Full_Dataset_filled.csv'\n",
    "data = pd.read_csv(file_path)"
   ]
  },
  {
   "cell_type": "code",
   "execution_count": 3,
   "metadata": {},
   "outputs": [
    {
     "name": "stderr",
     "output_type": "stream",
     "text": [
      "C:\\Users\\liamb\\AppData\\Local\\Temp\\ipykernel_8080\\1453708669.py:1: UserWarning: Parsing dates in %d/%m/%Y format when dayfirst=False (the default) was specified. Pass `dayfirst=True` or specify a format to silence this warning.\n",
      "  data['Date'] = pd.to_datetime(data['Date'])\n"
     ]
    }
   ],
   "source": [
    "data['Date'] = pd.to_datetime(data['Date'])"
   ]
  },
  {
   "cell_type": "code",
   "execution_count": 4,
   "metadata": {},
   "outputs": [
    {
     "name": "stdout",
     "output_type": "stream",
     "text": [
      "  Div       Date   Time   HomeTeam       AwayTeam  FTHG  FTAG FTR  HTHG  HTAG  \\\n",
      "0  E0 2024-05-19  16:00    Arsenal        Everton     2     1   H     1     1   \n",
      "1  E0 2024-05-19  16:00  Brentford      Newcastle     2     4   A     0     3   \n",
      "2  E0 2024-05-19  16:00   Brighton     Man United     0     2   A     0     0   \n",
      "3  E0 2024-05-19  16:00    Burnley  Nott'm Forest     1     2   A     0     2   \n",
      "4  E0 2024-05-19  16:00    Chelsea    Bournemouth     2     1   H     1     0   \n",
      "\n",
      "   ... AvgC<2.5  AHCh  B365CAHH  B365CAHA  PCAHH  PCAHA  MaxCAHH  MaxCAHA  \\\n",
      "0  ...     3.09 -2.00      2.04      1.89   2.02   1.89     2.05     1.91   \n",
      "1  ...     3.24  0.25      1.93      2.00   1.94   1.98     1.97     2.02   \n",
      "2  ...     3.46  0.00      2.06      1.87   2.04   1.89     2.12     1.89   \n",
      "3  ...     2.50  0.25      1.85      2.08   1.85   2.08     1.90     2.09   \n",
      "4  ...     3.54 -1.50      2.01      1.92   2.02   1.91     2.02     1.96   \n",
      "\n",
      "   AvgCAHH  AvgCAHA  \n",
      "0     1.98     1.89  \n",
      "1     1.92     1.94  \n",
      "2     2.04     1.84  \n",
      "3     1.85     2.02  \n",
      "4     1.98     1.89  \n",
      "\n",
      "[5 rows x 106 columns]\n"
     ]
    }
   ],
   "source": [
    "# Inspect the data\n",
    "print(data.head())"
   ]
  },
  {
   "cell_type": "code",
   "execution_count": 5,
   "metadata": {},
   "outputs": [
    {
     "name": "stdout",
     "output_type": "stream",
     "text": [
      "     Div       Date   Time        HomeTeam     AwayTeam  FTHG  FTAG FTR  HTHG  \\\n",
      "1895  E0 2019-08-10  15:00         Burnley  Southampton     3     0   H     0   \n",
      "1896  E0 2019-08-10  15:00  Crystal Palace      Everton     0     0   D     0   \n",
      "1897  E0 2019-08-10  15:00         Watford     Brighton     0     3   A     0   \n",
      "1898  E0 2019-08-10  17:30       Tottenham  Aston Villa     3     1   H     0   \n",
      "1899  E0 2019-08-09  20:00       Liverpool      Norwich     4     1   H     4   \n",
      "\n",
      "      HTAG  ... AvgC<2.5  AHCh  B365CAHH  B365CAHA  PCAHH  PCAHA  MaxCAHH  \\\n",
      "1895     0  ...     1.71  0.00      1.87      2.03   1.89   2.03     1.90   \n",
      "1896     0  ...     1.71  0.25      1.82      2.08   1.97   1.96     2.03   \n",
      "1897     1  ...     1.73 -0.50      2.04      1.86   2.05   1.88     2.12   \n",
      "1898     1  ...     2.40 -1.50      2.10      1.70   2.18   1.77     2.21   \n",
      "1899     0  ...     3.43 -2.25      1.91      1.99   1.94   1.98     1.99   \n",
      "\n",
      "      MaxCAHA  AvgCAHH  AvgCAHA  \n",
      "1895     2.07     1.86     2.02  \n",
      "1896     2.08     1.96     1.93  \n",
      "1897     1.91     2.05     1.84  \n",
      "1898     1.87     2.08     1.80  \n",
      "1899     2.07     1.90     1.99  \n",
      "\n",
      "[5 rows x 106 columns]\n"
     ]
    }
   ],
   "source": [
    "print(data.tail())"
   ]
  },
  {
   "cell_type": "code",
   "execution_count": 6,
   "metadata": {},
   "outputs": [
    {
     "name": "stdout",
     "output_type": "stream",
     "text": [
      "                                Date         FTHG         FTAG         HTHG  \\\n",
      "count                           1900  1900.000000  1900.000000  1900.000000   \n",
      "mean   2022-01-12 20:39:09.473684224     1.563158     1.310000     0.707895   \n",
      "min              2019-08-09 00:00:00     0.000000     0.000000     0.000000   \n",
      "25%              2020-11-29 00:00:00     1.000000     0.000000     0.000000   \n",
      "50%              2022-01-02 12:00:00     1.000000     1.000000     1.000000   \n",
      "75%              2023-04-05 00:00:00     2.000000     2.000000     1.000000   \n",
      "max              2024-05-19 00:00:00     9.000000     9.000000     5.000000   \n",
      "std                              NaN     1.344233     1.238833     0.859504   \n",
      "\n",
      "              HTAG           HS           AS          HST          AST  \\\n",
      "count  1900.000000  1900.000000  1900.000000  1900.000000  1900.000000   \n",
      "mean      0.586842    13.868421    11.598421     4.824737     4.109474   \n",
      "min       0.000000     1.000000     1.000000     0.000000     0.000000   \n",
      "25%       0.000000    10.000000     8.000000     3.000000     2.000000   \n",
      "50%       0.000000    13.000000    11.000000     5.000000     4.000000   \n",
      "75%       1.000000    17.000000    15.000000     6.000000     5.000000   \n",
      "max       5.000000    36.000000    31.000000    15.000000    15.000000   \n",
      "std       0.789168     5.755008     5.188627     2.641133     2.427596   \n",
      "\n",
      "                HF  ...     AvgC<2.5         AHCh     B365CAHH     B365CAHA  \\\n",
      "count  1900.000000  ...  1900.000000  1900.000000  1900.000000  1900.000000   \n",
      "mean     10.621053  ...     2.169737    -0.257237     1.945011     1.958342   \n",
      "min       0.000000  ...     1.390000    -3.750000     0.000000     0.000000   \n",
      "25%       8.000000  ...     1.830000    -0.750000     1.870000     1.880000   \n",
      "50%      10.000000  ...     2.060000    -0.250000     1.950000     1.970000   \n",
      "75%      13.000000  ...     2.380000     0.250000     2.030000     2.040000   \n",
      "max      23.000000  ...     5.770000     3.000000     3.550000     2.200000   \n",
      "std       3.460539  ...     0.488947     0.934101     0.115978     0.108208   \n",
      "\n",
      "             PCAHH        PCAHA      MaxCAHH      MaxCAHA      AvgCAHH  \\\n",
      "count  1900.000000  1900.000000  1900.000000  1900.000000  1900.000000   \n",
      "mean      1.960347     1.968989     2.013163     2.025363     1.934532   \n",
      "min       1.660000     1.300000     0.000000     0.000000     1.700000   \n",
      "25%       1.880000     1.890000     1.930000     1.940000     1.860000   \n",
      "50%       1.955000     1.960000     2.010000     2.020000     1.930000   \n",
      "75%       2.040000     2.050000     2.090000     2.110000     2.010000   \n",
      "max       3.930000     2.380000     3.950000     2.520000     3.660000   \n",
      "std       0.110425     0.101888     0.121329     0.116096     0.099936   \n",
      "\n",
      "           AvgCAHA  \n",
      "count  1900.000000  \n",
      "mean      1.945842  \n",
      "min       1.280000  \n",
      "25%       1.870000  \n",
      "50%       1.950000  \n",
      "75%       2.020000  \n",
      "max       2.240000  \n",
      "std       0.093251  \n",
      "\n",
      "[8 rows x 99 columns]\n"
     ]
    }
   ],
   "source": [
    "print(data.describe())"
   ]
  },
  {
   "cell_type": "code",
   "execution_count": null,
   "metadata": {},
   "outputs": [
    {
     "name": "stdout",
     "output_type": "stream",
     "text": [
      "  Div       Date   Time   HomeTeam       AwayTeam  FTHG  FTAG  FTR  HTHG  \\\n",
      "0  E0 2024-05-19  16:00    Arsenal        Everton     2     1    0     1   \n",
      "1  E0 2024-05-19  16:00  Brentford      Newcastle     2     4    2     0   \n",
      "2  E0 2024-05-19  16:00   Brighton     Man United     0     2    2     0   \n",
      "3  E0 2024-05-19  16:00    Burnley  Nott'm Forest     1     2    2     0   \n",
      "4  E0 2024-05-19  16:00    Chelsea    Bournemouth     2     1    0     1   \n",
      "\n",
      "   HTAG  ...  AvgC<2.5  AHCh  B365CAHH  B365CAHA  PCAHH  PCAHA  MaxCAHH  \\\n",
      "0     1  ...      3.09 -2.00      2.04      1.89   2.02   1.89     2.05   \n",
      "1     3  ...      3.24  0.25      1.93      2.00   1.94   1.98     1.97   \n",
      "2     0  ...      3.46  0.00      2.06      1.87   2.04   1.89     2.12   \n",
      "3     2  ...      2.50  0.25      1.85      2.08   1.85   2.08     1.90   \n",
      "4     0  ...      3.54 -1.50      2.01      1.92   2.02   1.91     2.02   \n",
      "\n",
      "   MaxCAHA  AvgCAHH  AvgCAHA  \n",
      "0     1.91     1.98     1.89  \n",
      "1     2.02     1.92     1.94  \n",
      "2     1.89     2.04     1.84  \n",
      "3     2.09     1.85     2.02  \n",
      "4     1.96     1.98     1.89  \n",
      "\n",
      "[5 rows x 106 columns]\n"
     ]
    }
   ],
   "source": [
    "# Encoding FTR (Full time result: H, D, A)\n",
    "data['FTR'] = data['FTR'].map({'H': 0, 'D': 1, 'A': 2})\n",
    "\n",
    "# Encode categorical columns (modify this list if necessary)\n",
    "categorical_columns = ['HTR']  \n",
    "\n",
    "for col in categorical_columns:\n",
    "    data[col] = data[col].map({'H': 0, 'D': 1, 'A': 2}) \n",
    "\n",
    "print(data.head()) "
   ]
  },
  {
   "cell_type": "code",
   "execution_count": null,
   "metadata": {},
   "outputs": [],
   "source": [
    "def assign_points(row):\n",
    "    if row['FTR'] == 0:  # Home win\n",
    "        return (3, 0)\n",
    "    elif row['FTR'] == 2:  # Away win\n",
    "        return (0, 3)\n",
    "    else:  # Draw\n",
    "        return (1, 1)\n",
    "\n",
    "data[['HomePoints', 'AwayPoints']] = data.apply(assign_points, axis=1, result_type='expand')"
   ]
  },
  {
   "cell_type": "code",
   "execution_count": 9,
   "metadata": {},
   "outputs": [],
   "source": [
    "# Filter Training Data (Seasons 2019-2023)\n",
    "train_data = data[data['Date'] < \"2023-08-01\"]\n",
    "\n",
    "# Filter Test Data (2023/24 Season)\n",
    "test_data = data[data['Date'] >= \"2023-08-01\"]\n",
    "\n",
    "\n",
    "features = ['HTHG','HTAG','HTR','HS','AS','HST','AST','HF','AF','HC','AC','HY','AY','HR','AR','B365H','B365D','B365A','BWH','BWD','BWA','IWH','IWD','IWA','PSH','PSD',\n",
    "        \t'PSA','WHH','WHD','WHA','VCH','VCD','VCA','MaxH','MaxD','MaxA','AvgH','AvgD','AvgA','B365>2.5','B365<2.5','P>2.5',\n",
    "        \t'P<2.5','Max>2.5','Max<2.5','Avg>2.5','Avg<2.5','AHh','B365AHH','B365AHA','PAHH','PAHA','MaxAHH','MaxAHA',\t\n",
    "            'AvgAHH',\t'AvgAHA',\t'B365CH',\t'B365CD',\t'B365CA',\t'BWCH',\t'BWCD',\t'BWCA',\t'IWCH',\t'IWCD',\t'IWCA',\t\n",
    "            'PSCH',\t'PSCD',\t'PSCA',\t'WHCH',\t'WHCD'\t,'WHCA'\t,'VCCH',\t'VCCD',\t'VCCA',\t'MaxCH',\t'MaxCD'\t,\n",
    "            'MaxCA'\t,'AvgCH'\t,'AvgCD',\t'AvgCA',\t'B365C>2.5',\t'B365C<2.5',\t'PC>2.5'\t,'PC<2.5',\t'MaxC>2.5',\t'MaxC<2.5'\t,\n",
    "            'AvgC>2.5',\t'AvgC<2.5',\t'AHCh'\t,'B365CAHH',\t'B365CAHA',\t'PCAHH',\t'PCAHA',\t'MaxCAHH',\t'MaxCAHA',\t'AvgCAHH',\t'AvgCAHA'\n",
    "]\n",
    "\n",
    "target = 'FTR'\n",
    "\n",
    "# Training and Testing Data\n",
    "X_train = train_data[features]\n",
    "y_train = train_data[target]\n",
    "\n",
    "X_test = test_data[features]\n",
    "y_test = test_data[target]"
   ]
  },
  {
   "cell_type": "markdown",
   "metadata": {},
   "source": [
    "### Train - Test Split"
   ]
  },
  {
   "cell_type": "code",
   "execution_count": 10,
   "metadata": {},
   "outputs": [],
   "source": [
    "# Optionally, scale features for Logistic Regression\n",
    "scaler = StandardScaler()\n",
    "X_train_scaled = scaler.fit_transform(X_train)\n",
    "X_test_scaled = scaler.transform(X_test)"
   ]
  },
  {
   "cell_type": "markdown",
   "metadata": {},
   "source": [
    "## Model Building"
   ]
  },
  {
   "cell_type": "markdown",
   "metadata": {},
   "source": [
    "### Random Forest"
   ]
  },
  {
   "cell_type": "code",
   "execution_count": null,
   "metadata": {},
   "outputs": [
    {
     "name": "stdout",
     "output_type": "stream",
     "text": [
      "Random Forest Results with Odds:\n",
      "[[146  17  12]\n",
      " [ 41  12  29]\n",
      " [ 22  10  91]]\n",
      "              precision    recall  f1-score   support\n",
      "\n",
      "           0       0.70      0.83      0.76       175\n",
      "           1       0.31      0.15      0.20        82\n",
      "           2       0.69      0.74      0.71       123\n",
      "\n",
      "    accuracy                           0.66       380\n",
      "   macro avg       0.57      0.57      0.56       380\n",
      "weighted avg       0.61      0.66      0.62       380\n",
      "\n",
      "Accuracy: 0.66\n"
     ]
    }
   ],
   "source": [
    "rf = RandomForestClassifier(\n",
    "    n_estimators=100,  \n",
    "    max_depth=10,      \n",
    "    min_samples_split=5,  \n",
    "    random_state=42\n",
    ")\n",
    "rf.fit(X_train_scaled, y_train)\n",
    "\n",
    "# Evaluate random forest\n",
    "print(\"Random Forest Results with Odds:\")\n",
    "y_pred_rf = rf.predict(X_test_scaled)\n",
    "print(confusion_matrix(y_test, y_pred_rf))\n",
    "print(classification_report(y_test, y_pred_rf))\n",
    "print(f\"Accuracy: {accuracy_score(y_test, y_pred_rf):.2f}\")"
   ]
  },
  {
   "cell_type": "markdown",
   "metadata": {},
   "source": [
    "## League Standings Simulation\n",
    "\n",
    "### Random Forest"
   ]
  },
  {
   "cell_type": "code",
   "execution_count": null,
   "metadata": {},
   "outputs": [
    {
     "name": "stdout",
     "output_type": "stream",
     "text": [
      "\n",
      "=== Predicted League Table for 2023/24 ===\n",
      "                Team  Points\n",
      "0           Man City     103\n",
      "1            Arsenal     101\n",
      "2          Liverpool      84\n",
      "3          Newcastle      82\n",
      "4            Chelsea      79\n",
      "5         Man United      72\n",
      "6          Tottenham      69\n",
      "7           Brighton      63\n",
      "8        Aston Villa      61\n",
      "9             Fulham      49\n",
      "10       Bournemouth      47\n",
      "11    Crystal Palace      45\n",
      "12           Everton      44\n",
      "13         Brentford      43\n",
      "14     Nott'm Forest      39\n",
      "15          West Ham      37\n",
      "16            Wolves      30\n",
      "17           Burnley      26\n",
      "18             Luton      15\n",
      "19  Sheffield United      12\n"
     ]
    },
    {
     "name": "stderr",
     "output_type": "stream",
     "text": [
      "C:\\Users\\liamb\\AppData\\Local\\Temp\\ipykernel_8080\\1998548551.py:2: SettingWithCopyWarning: \n",
      "A value is trying to be set on a copy of a slice from a DataFrame.\n",
      "Try using .loc[row_indexer,col_indexer] = value instead\n",
      "\n",
      "See the caveats in the documentation: https://pandas.pydata.org/pandas-docs/stable/user_guide/indexing.html#returning-a-view-versus-a-copy\n",
      "  test_data['Predicted_FTR'] = rf.predict(X_test_scaled)  # Assign only to test_data\n",
      "C:\\Users\\liamb\\AppData\\Local\\Temp\\ipykernel_8080\\1998548551.py:14: SettingWithCopyWarning: \n",
      "A value is trying to be set on a copy of a slice from a DataFrame.\n",
      "Try using .loc[row_indexer,col_indexer] = value instead\n",
      "\n",
      "See the caveats in the documentation: https://pandas.pydata.org/pandas-docs/stable/user_guide/indexing.html#returning-a-view-versus-a-copy\n",
      "  test_data[['HomePoints', 'AwayPoints']] = test_data.apply(assign_points, axis=1, result_type='expand')\n"
     ]
    }
   ],
   "source": [
    "test_data['Predicted_FTR'] = rf.predict(X_test_scaled)  \n",
    "\n",
    "def assign_points(row):\n",
    "    if row['Predicted_FTR'] == 0:  # Home win\n",
    "        return (3, 0)\n",
    "    elif row['Predicted_FTR'] == 2:  # Away win\n",
    "        return (0, 3)\n",
    "    else:  # Draw\n",
    "        return (1, 1)\n",
    "\n",
    "# Apply the function to assign predicted points\n",
    "test_data[['HomePoints', 'AwayPoints']] = test_data.apply(assign_points, axis=1, result_type='expand')\n",
    "\n",
    "# Calculate total points for each team\n",
    "home_points = test_data.groupby('HomeTeam')['HomePoints'].sum()\n",
    "away_points = test_data.groupby('AwayTeam')['AwayPoints'].sum() \n",
    "\n",
    "# Combine home and away points to get league standings\n",
    "total_points = home_points.add(away_points, fill_value=0).sort_values(ascending=False)\n",
    "\n",
    "# Create league table\n",
    "league_table = total_points.sort_values(ascending=False).reset_index()\n",
    "league_table.columns = ['Team', 'Points']\n",
    "\n",
    "# Display the final league table for 2023/24 season\n",
    "print(\"\\n=== Predicted League Table for 2023/24 ===\")\n",
    "print(league_table)\n"
   ]
  },
  {
   "cell_type": "code",
   "execution_count": 21,
   "metadata": {},
   "outputs": [
    {
     "name": "stdout",
     "output_type": "stream",
     "text": [
      "      Feature  Importance\n",
      "2         HTR    0.107817\n",
      "1        HTAG    0.037449\n",
      "5         HST    0.035364\n",
      "0        HTHG    0.032570\n",
      "6         AST    0.031826\n",
      "77      AvgCH    0.017494\n",
      "79      AvgCA    0.016105\n",
      "65       PSCH    0.015551\n",
      "62       IWCH    0.014100\n",
      "4          AS    0.013888\n",
      "3          HS    0.012150\n",
      "76      MaxCA    0.011978\n",
      "33       MaxH    0.011336\n",
      "36       AvgH    0.011285\n",
      "48    B365AHH    0.011088\n",
      "93    MaxCAHH    0.010809\n",
      "9          HC    0.010685\n",
      "71       VCCH    0.010653\n",
      "67       PSCA    0.010592\n",
      "50       PAHH    0.010503\n",
      "64       IWCA    0.010404\n",
      "38       AvgA    0.010326\n",
      "94    MaxCAHA    0.010290\n",
      "59       BWCH    0.010283\n",
      "8          AF    0.010268\n",
      "91      PCAHH    0.010264\n",
      "7          HF    0.010183\n",
      "95    AvgCAHH    0.010160\n",
      "89   B365CAHH    0.010029\n",
      "75      MaxCD    0.009945\n",
      "83     PC<2.5    0.009930\n",
      "74      MaxCH    0.009898\n",
      "90   B365CAHA    0.009675\n",
      "61       BWCA    0.009380\n",
      "10         AC    0.009290\n",
      "24        PSH    0.009221\n",
      "70       WHCA    0.009159\n",
      "51       PAHA    0.009133\n",
      "17      B365A    0.009011\n",
      "18        BWH    0.008987\n",
      "49    B365AHA    0.008942\n",
      "53     MaxAHA    0.008726\n",
      "96    AvgCAHA    0.008534\n",
      "26        PSA    0.008462\n",
      "68       WHCH    0.008290\n",
      "42      P<2.5    0.008215\n",
      "55     AvgAHA    0.008170\n",
      "11         HY    0.008169\n",
      "92      PCAHA    0.008151\n",
      "54     AvgAHH    0.008073\n",
      "52     MaxAHH    0.008043\n",
      "25        PSD    0.008014\n",
      "43    Max>2.5    0.007885\n",
      "41      P>2.5    0.007875\n",
      "86   AvgC>2.5    0.007868\n",
      "58     B365CA    0.007828\n",
      "44    Max<2.5    0.007759\n",
      "84   MaxC>2.5    0.007693\n",
      "34       MaxD    0.007663\n",
      "32        VCA    0.007629\n",
      "45    Avg>2.5    0.007593\n",
      "85   MaxC<2.5    0.007549\n",
      "82     PC>2.5    0.007497\n",
      "87   AvgC<2.5    0.007492\n",
      "37       AvgD    0.007489\n",
      "46    Avg<2.5    0.007461\n",
      "12         AY    0.007358\n",
      "78      AvgCD    0.007222\n",
      "27        WHH    0.007217\n",
      "66       PSCD    0.007172\n",
      "21        IWH    0.007144\n",
      "73       VCCA    0.006998\n",
      "35       MaxA    0.006740\n",
      "69       WHCD    0.006714\n",
      "15      B365H    0.006435\n",
      "29        WHA    0.006400\n",
      "63       IWCD    0.006319\n",
      "56     B365CH    0.005774\n",
      "19        BWD    0.005535\n",
      "22        IWD    0.005353\n",
      "40   B365<2.5    0.005247\n",
      "80  B365C>2.5    0.005215\n",
      "39   B365>2.5    0.005174\n",
      "81  B365C<2.5    0.005063\n",
      "23        IWA    0.005060\n",
      "30        VCH    0.004993\n",
      "16      B365D    0.004942\n",
      "72       VCCD    0.004848\n",
      "31        VCD    0.004635\n",
      "57     B365CD    0.004463\n",
      "28        WHD    0.004411\n",
      "20        BWA    0.004399\n",
      "60       BWCD    0.004218\n",
      "47        AHh    0.003884\n",
      "14         AR    0.002333\n",
      "88       AHCh    0.001381\n",
      "13         HR    0.001207\n"
     ]
    }
   ],
   "source": [
    "feature_importances = pd.DataFrame({\n",
    "    'Feature': features,\n",
    "    'Importance': rf.feature_importances_\n",
    "}).sort_values(by='Importance', ascending=False)\n",
    "\n",
    "pd.set_option('display.max_rows', None)\n",
    "\n",
    "print(feature_importances)"
   ]
  }
 ],
 "metadata": {
  "kernelspec": {
   "display_name": "aci",
   "language": "python",
   "name": "python3"
  },
  "language_info": {
   "codemirror_mode": {
    "name": "ipython",
    "version": 3
   },
   "file_extension": ".py",
   "mimetype": "text/x-python",
   "name": "python",
   "nbconvert_exporter": "python",
   "pygments_lexer": "ipython3",
   "version": "3.10.4"
  }
 },
 "nbformat": 4,
 "nbformat_minor": 2
}
