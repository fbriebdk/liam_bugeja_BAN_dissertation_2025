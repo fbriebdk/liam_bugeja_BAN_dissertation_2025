{
 "cells": [
  {
   "cell_type": "markdown",
   "metadata": {},
   "source": [
    "## Data Preparation"
   ]
  },
  {
   "cell_type": "code",
   "execution_count": null,
   "metadata": {},
   "outputs": [],
   "source": [
    "# importing necessary libraries\n",
    "import pandas as pd\n",
    "import numpy as np\n",
    "from sklearn.model_selection import train_test_split\n",
    "from sklearn.preprocessing import LabelEncoder, StandardScaler\n",
    "from sklearn.ensemble import RandomForestClassifier\n",
    "from sklearn.linear_model import LogisticRegression\n",
    "from sklearn.metrics import classification_report, confusion_matrix, accuracy_score\n",
    "from sklearn.model_selection import GridSearchCV\n",
    "from dataset_versioning import save_dataset_version, clean_dataset"
   ]
  },
  {
   "cell_type": "code",
   "execution_count": null,
   "metadata": {},
   "outputs": [],
   "source": [
    "# Loading and inspecting the data\n",
    "file_path = 'datasets_versions/EPL_dataset_9_20250305.csv' # change according to dataset chosen\n",
    "data = pd.read_csv(file_path)"
   ]
  },
  {
   "cell_type": "code",
   "execution_count": 16,
   "metadata": {},
   "outputs": [
    {
     "name": "stderr",
     "output_type": "stream",
     "text": [
      "C:\\Users\\liamb\\AppData\\Local\\Temp\\ipykernel_9632\\1453708669.py:1: UserWarning: Parsing dates in %d/%m/%Y format when dayfirst=False (the default) was specified. Pass `dayfirst=True` or specify a format to silence this warning.\n",
      "  data['Date'] = pd.to_datetime(data['Date'])\n"
     ]
    }
   ],
   "source": [
    "data['Date'] = pd.to_datetime(data['Date'])"
   ]
  },
  {
   "cell_type": "code",
   "execution_count": null,
   "metadata": {},
   "outputs": [
    {
     "name": "stdout",
     "output_type": "stream",
     "text": [
      "        Date   HomeTeam       AwayTeam  FTHG  FTAG  FTR  HTHG  HTAG  HTR  HS  \\\n",
      "0 2024-05-19    Arsenal        Everton     2     1    0     1     1    1  26   \n",
      "1 2024-05-19  Brentford      Newcastle     2     4    2     0     3    2  10   \n",
      "2 2024-05-19   Brighton     Man United     0     2    2     0     0    1  17   \n",
      "3 2024-05-19    Burnley  Nott'm Forest     1     2    2     0     2    2  20   \n",
      "4 2024-05-19    Chelsea    Bournemouth     2     1    0     1     0    0  16   \n",
      "\n",
      "   ...       ADS  Home_Overall  Away_Overall  TravelDistance  HomeProb  \\\n",
      "0  ...  1.070707            82            77      288.384207  0.818569   \n",
      "1  ...  1.077441            77            81      397.511501  0.326078   \n",
      "2  ...  0.895623            77            82      326.069081  0.441779   \n",
      "3  ...  0.545455            74            76      119.316643  0.330535   \n",
      "4  ...  0.787879            81            74      141.818451  0.660229   \n",
      "\n",
      "   DrawProb  AwayProb  HomeMomentum  AwayMomentum  ExpectedGoalDifference  \n",
      "0  0.119120  0.062311           3.0           0.0                0.313441  \n",
      "1  0.242088  0.431833           0.0           3.0               -0.908120  \n",
      "2  0.233251  0.324970           0.0           3.0               -0.146165  \n",
      "3  0.256297  0.413168           0.0           3.0                0.642601  \n",
      "4  0.179950  0.159822           3.0           0.0                0.616409  \n",
      "\n",
      "[5 rows x 37 columns]\n"
     ]
    }
   ],
   "source": [
    "# inspecting start of the dataset\n",
    "print(data.head())"
   ]
  },
  {
   "cell_type": "code",
   "execution_count": null,
   "metadata": {},
   "outputs": [
    {
     "name": "stdout",
     "output_type": "stream",
     "text": [
      "           Date        HomeTeam     AwayTeam  FTHG  FTAG  FTR  HTHG  HTAG  \\\n",
      "1895 2019-08-10         Burnley  Southampton     3     0    0     0     0   \n",
      "1896 2019-08-10  Crystal Palace      Everton     0     0    1     0     0   \n",
      "1897 2019-08-10         Watford     Brighton     0     3    2     0     1   \n",
      "1898 2019-08-10       Tottenham  Aston Villa     3     1    0     0     1   \n",
      "1899 2019-08-09       Liverpool      Norwich     4     1    0     4     0   \n",
      "\n",
      "      HTR  HS  ...       ADS  Home_Overall  Away_Overall  TravelDistance  \\\n",
      "1895    1  10  ...  0.989899            76            76      325.623794   \n",
      "1896    1   6  ...  1.070707            77            78      302.519907   \n",
      "1897    2  11  ...  0.936027            77            76       90.480320   \n",
      "1898    2  31  ...  0.936027            82            76      159.886179   \n",
      "1899    0  15  ...  0.531987            85            74      299.321920   \n",
      "\n",
      "      HomeProb  DrawProb  AwayProb  HomeMomentum  AwayMomentum  \\\n",
      "1895  0.357612  0.297640  0.344748           1.8           1.4   \n",
      "1896  0.306621  0.293494  0.399885           1.6           0.2   \n",
      "1897  0.493995  0.281041  0.224965           0.6           0.8   \n",
      "1898  0.735958  0.173010  0.091032           2.0           0.6   \n",
      "1899  0.841911  0.109689  0.048400           3.0           0.2   \n",
      "\n",
      "      ExpectedGoalDifference  \n",
      "1895               -0.227717  \n",
      "1896               -0.077813  \n",
      "1897               -1.051062  \n",
      "1898                0.254818  \n",
      "1899                1.473322  \n",
      "\n",
      "[5 rows x 37 columns]\n"
     ]
    }
   ],
   "source": [
    "print(data.tail()) # inspecting the end of the dataset"
   ]
  },
  {
   "cell_type": "code",
   "execution_count": 19,
   "metadata": {},
   "outputs": [
    {
     "name": "stdout",
     "output_type": "stream",
     "text": [
      "                                Date         FTHG         FTAG          FTR  \\\n",
      "count                           1900  1900.000000  1900.000000  1900.000000   \n",
      "mean   2022-01-12 20:39:09.473684224     1.563158     1.310000     0.890526   \n",
      "min              2019-08-09 00:00:00     0.000000     0.000000     0.000000   \n",
      "25%              2020-11-29 00:00:00     1.000000     0.000000     0.000000   \n",
      "50%              2022-01-02 12:00:00     1.000000     1.000000     1.000000   \n",
      "75%              2023-04-05 00:00:00     2.000000     2.000000     2.000000   \n",
      "max              2024-05-19 00:00:00     9.000000     9.000000     2.000000   \n",
      "std                              NaN     1.344233     1.238833     0.872380   \n",
      "\n",
      "              HTHG         HTAG          HTR           HS           AS  \\\n",
      "count  1900.000000  1900.000000  1900.000000  1900.000000  1900.000000   \n",
      "mean      0.707895     0.586842     0.922632    13.868421    11.598421   \n",
      "min       0.000000     0.000000     0.000000     1.000000     1.000000   \n",
      "25%       0.000000     0.000000     0.000000    10.000000     8.000000   \n",
      "50%       1.000000     0.000000     1.000000    13.000000    11.000000   \n",
      "75%       1.000000     1.000000     2.000000    17.000000    15.000000   \n",
      "max       5.000000     5.000000     2.000000    36.000000    31.000000   \n",
      "std       0.859504     0.789168     0.776710     5.755008     5.188627   \n",
      "\n",
      "               HST  ...          ADS  Home_Overall  Away_Overall  \\\n",
      "count  1900.000000  ...  1900.000000    1900.00000   1900.000000   \n",
      "mean      4.824737  ...     0.835152      78.36000     78.370000   \n",
      "min       0.000000  ...     0.249158      72.00000     72.000000   \n",
      "25%       3.000000  ...     0.720539      76.00000     76.000000   \n",
      "50%       5.000000  ...     0.888889      77.00000     78.000000   \n",
      "75%       6.000000  ...     0.991582      81.00000     81.000000   \n",
      "max      15.000000  ...     1.077441      85.00000     85.000000   \n",
      "std       2.641133  ...     0.188241       3.31605      3.358428   \n",
      "\n",
      "       TravelDistance     HomeProb     DrawProb     AwayProb  HomeMomentum  \\\n",
      "count     1900.000000  1900.000000  1900.000000  1900.000000   1900.000000   \n",
      "mean       179.100393     0.435052     0.238880     0.326069      1.546982   \n",
      "min          2.253032     0.053296     0.074719     0.025598      0.000000   \n",
      "25%         97.654621     0.284484     0.211264     0.181374      1.000000   \n",
      "50%        167.255632     0.416393     0.252398     0.299945      1.500000   \n",
      "75%        269.014334     0.577092     0.275955     0.441701      2.000000   \n",
      "max        471.733935     0.898796     0.322516     0.838607      3.000000   \n",
      "std        109.952754     0.198031     0.050279     0.181695      0.737395   \n",
      "\n",
      "       AwayMomentum  ExpectedGoalDifference  \n",
      "count   1900.000000             1900.000000  \n",
      "mean       1.223763               -0.001881  \n",
      "min        0.000000               -1.851830  \n",
      "25%        0.800000               -0.437710  \n",
      "50%        1.200000               -0.015482  \n",
      "75%        1.800000                0.366740  \n",
      "max        3.000000                2.028340  \n",
      "std        0.710260                0.655693  \n",
      "\n",
      "[8 rows x 35 columns]\n"
     ]
    }
   ],
   "source": [
    "print(data.describe())"
   ]
  },
  {
   "cell_type": "code",
   "execution_count": null,
   "metadata": {},
   "outputs": [],
   "source": [
    "# Assigning Points Based on FTR\n",
    "def assign_points(row):\n",
    "    if row['FTR'] == 0:  # Home win\n",
    "        return (3, 0)\n",
    "    elif row['FTR'] == 2:  # Away win\n",
    "        return (0, 3)\n",
    "    else:  # Draw\n",
    "        return (1, 1)\n",
    "\n",
    "data[['HomePoints', 'AwayPoints']] = data.apply(assign_points, axis=1, result_type='expand')"
   ]
  },
  {
   "cell_type": "code",
   "execution_count": null,
   "metadata": {},
   "outputs": [],
   "source": [
    "# Filtering Training Data (Seasons 2019-2023)\n",
    "train_data = data[data['Date'] < \"2023-08-01\"]\n",
    "\n",
    "# Filtering Test Data (2023/24 Season)\n",
    "test_data = data[data['Date'] >= \"2023-08-01\"]\n",
    "\n",
    "\n",
    "features = ['HTHG','HTAG','HTR','HS','AS','HST','AST','HF','AF',\n",
    "            'HC','AC','HY','AY','HR','AR','AvgH','AvgD','AvgA', \n",
    "            'Home_Overall','Away_Overall','HAS','HDS','AAS','ADS',\n",
    "            'TravelDistance','HomeProb','DrawProb','AwayProb',\n",
    "            'HomeMomentum','AwayMomentum','ExpectedGoalDifference']\n",
    "            \n",
    "\n",
    "target = 'FTR'\n",
    "\n",
    "# Training and Testing Data\n",
    "X_train = train_data[features]\n",
    "y_train = train_data[target]\n",
    "\n",
    "X_test = test_data[features]\n",
    "y_test = test_data[target]"
   ]
  },
  {
   "cell_type": "markdown",
   "metadata": {},
   "source": [
    "### Train - Test Split"
   ]
  },
  {
   "cell_type": "code",
   "execution_count": null,
   "metadata": {},
   "outputs": [],
   "source": [
    "# scaling features for logistic regression\n",
    "scaler = StandardScaler()\n",
    "X_train_scaled = scaler.fit_transform(X_train)\n",
    "X_test_scaled = scaler.transform(X_test)"
   ]
  },
  {
   "cell_type": "markdown",
   "metadata": {},
   "source": [
    "## Model Building"
   ]
  },
  {
   "cell_type": "markdown",
   "metadata": {},
   "source": [
    "### Logistic Regression"
   ]
  },
  {
   "cell_type": "code",
   "execution_count": null,
   "metadata": {},
   "outputs": [
    {
     "name": "stdout",
     "output_type": "stream",
     "text": [
      "Confusion Matrix with Counts and Row-wise Percentages:\n",
      "            Predicted Win Predicted Draw Predicted Loss\n",
      "Actual Win    132 (75.4%)     37 (21.1%)       6 (3.4%)\n",
      "Actual Draw    19 (23.2%)     45 (54.9%)     18 (22.0%)\n",
      "Actual Loss      6 (4.9%)     27 (22.0%)     90 (73.2%)\n",
      "\n",
      "Classification Report:\n",
      "              precision    recall  f1-score   support\n",
      "\n",
      "           0       0.84      0.75      0.80       175\n",
      "           1       0.41      0.55      0.47        82\n",
      "           2       0.79      0.73      0.76       123\n",
      "\n",
      "    accuracy                           0.70       380\n",
      "   macro avg       0.68      0.68      0.68       380\n",
      "weighted avg       0.73      0.70      0.71       380\n",
      "\n",
      "Accuracy: 0.70\n"
     ]
    }
   ],
   "source": [
    "# Training Logistic Regression\n",
    "# log_reg = LogisticRegression()\n",
    "# log_reg.fit(X_train_scaled, y_train)\n",
    "\n",
    "log_reg = LogisticRegression(class_weight='balanced')\n",
    "log_reg.fit(X_train_scaled, y_train)\n",
    "\n",
    "# Evaluating the Logistic Regression model\n",
    "y_pred_log = log_reg.predict(X_test_scaled)\n",
    "\n",
    "# confusion matrix with percentages\n",
    "cm = confusion_matrix(y_test, y_pred_log)\n",
    "\n",
    "labels = ['Win', 'Draw', 'Loss']\n",
    "cm_df = pd.DataFrame(\n",
    "    cm,\n",
    "    index=[f'Actual {l}' for l in labels],\n",
    "    columns=[f'Predicted {l}' for l in labels]\n",
    ")\n",
    "\n",
    "cm_percent = (cm_df.div(cm_df.sum(axis=1), axis=0) * 100).round(1)\n",
    "cm_formatted = cm_df.astype(str) + \" (\" + cm_percent.astype(str) + \"%)\"\n",
    "\n",
    "# Print the formatted confusion matrix\n",
    "print(\"Confusion Matrix with Counts and Row-wise Percentages:\")\n",
    "print(cm_formatted.to_string())\n",
    "\n",
    "# Print the classification report and accuracy\n",
    "print(\"\\nClassification Report:\")\n",
    "print(classification_report(y_test, y_pred_log))\n",
    "print(f\"Accuracy: {accuracy_score(y_test, y_pred_log):.2f}\")"
   ]
  },
  {
   "cell_type": "markdown",
   "metadata": {},
   "source": [
    "## League Standings Simulation\n",
    "\n",
    "### Logistic Regression"
   ]
  },
  {
   "cell_type": "code",
   "execution_count": null,
   "metadata": {},
   "outputs": [
    {
     "name": "stdout",
     "output_type": "stream",
     "text": [
      "\n",
      "=== Predicted League Table for 2023/24 ===\n",
      "                Team  Points\n",
      "0           Man City      98\n",
      "1            Arsenal      94\n",
      "2          Liverpool      76\n",
      "3            Chelsea      73\n",
      "4          Newcastle      64\n",
      "5        Aston Villa      60\n",
      "6          Tottenham      59\n",
      "7         Man United      56\n",
      "8     Crystal Palace      53\n",
      "9        Bournemouth      49\n",
      "10            Fulham      49\n",
      "11          Brighton      46\n",
      "12           Everton      45\n",
      "13     Nott'm Forest      42\n",
      "14          West Ham      42\n",
      "15            Wolves      38\n",
      "16         Brentford      35\n",
      "17             Luton      21\n",
      "18           Burnley      19\n",
      "19  Sheffield United      12\n"
     ]
    },
    {
     "name": "stderr",
     "output_type": "stream",
     "text": [
      "C:\\Users\\liamb\\AppData\\Local\\Temp\\ipykernel_9632\\3223054541.py:5: SettingWithCopyWarning: \n",
      "A value is trying to be set on a copy of a slice from a DataFrame.\n",
      "Try using .loc[row_indexer,col_indexer] = value instead\n",
      "\n",
      "See the caveats in the documentation: https://pandas.pydata.org/pandas-docs/stable/user_guide/indexing.html#returning-a-view-versus-a-copy\n",
      "  test_data['Predicted_FTR'] = log_reg.predict(X_test_scaled)\n",
      "C:\\Users\\liamb\\AppData\\Local\\Temp\\ipykernel_9632\\3223054541.py:16: SettingWithCopyWarning: \n",
      "A value is trying to be set on a copy of a slice from a DataFrame.\n",
      "Try using .loc[row_indexer,col_indexer] = value instead\n",
      "\n",
      "See the caveats in the documentation: https://pandas.pydata.org/pandas-docs/stable/user_guide/indexing.html#returning-a-view-versus-a-copy\n",
      "  test_data[['HomePoints', 'AwayPoints']] = test_data.apply(assign_points, axis=1, result_type='expand')\n"
     ]
    }
   ],
   "source": [
    "# Scale the test features for 2023/24 Season\n",
    "X_test_scaled = scaler.transform(X_test)\n",
    "\n",
    "# Predicting match outcomes using Logistic Regression for 2023/24 matches\n",
    "test_data['Predicted_FTR'] = log_reg.predict(X_test_scaled)\n",
    "\n",
    "# Assigning points based on predictions for test dataset only\n",
    "def assign_points(row):\n",
    "    if row['Predicted_FTR'] == 0:  # Home win\n",
    "        return (3, 0)\n",
    "    elif row['Predicted_FTR'] == 2:  # Away win\n",
    "        return (0, 3)\n",
    "    else:  # Draw\n",
    "        return (1, 1)\n",
    "\n",
    "test_data[['HomePoints', 'AwayPoints']] = test_data.apply(assign_points, axis=1, result_type='expand')\n",
    "\n",
    "# Calculating total points for each team (2023/24 season only)\n",
    "home_points = test_data.groupby('HomeTeam')['HomePoints'].sum()\n",
    "away_points = test_data.groupby('AwayTeam')['AwayPoints'].sum()\n",
    "\n",
    "# Combining home and away points to get final league standings\n",
    "total_points = home_points.add(away_points, fill_value=0).sort_values(ascending=False)\n",
    "\n",
    "league_table = total_points.reset_index()\n",
    "league_table.columns = ['Team', 'Points']\n",
    "\n",
    "# Displaying the final league table for 2023/24 season\n",
    "print(\"\\n=== Predicted League Table for 2023/24 ===\")\n",
    "print(league_table)"
   ]
  },
  {
   "cell_type": "code",
   "execution_count": null,
   "metadata": {},
   "outputs": [
    {
     "name": "stdout",
     "output_type": "stream",
     "text": [
      "                   Feature  Coefficient\n",
      "0                     HTHG     0.922716\n",
      "28            HomeMomentum     0.836426\n",
      "5                      HST     0.684150\n",
      "16                    AvgD     0.451766\n",
      "10                      AC     0.301596\n",
      "2                      HTR     0.230781\n",
      "26                DrawProb     0.208622\n",
      "14                      AR     0.179918\n",
      "19            Away_Overall     0.074518\n",
      "8                       AF     0.074160\n",
      "7                       HF     0.054803\n",
      "22                     AAS     0.044055\n",
      "24          TravelDistance     0.039258\n",
      "21                     HDS     0.028156\n",
      "18            Home_Overall    -0.015120\n",
      "4                       AS    -0.021011\n",
      "20                     HAS    -0.021541\n",
      "27                AwayProb    -0.022041\n",
      "30  ExpectedGoalDifference    -0.022419\n",
      "23                     ADS    -0.030996\n",
      "25                HomeProb    -0.032810\n",
      "11                      HY    -0.069588\n",
      "12                      AY    -0.087131\n",
      "17                    AvgA    -0.118741\n",
      "9                       HC    -0.147646\n",
      "13                      HR    -0.156157\n",
      "15                    AvgH    -0.199344\n",
      "3                       HS    -0.281236\n",
      "6                      AST    -0.481807\n",
      "1                     HTAG    -0.823647\n",
      "29            AwayMomentum    -0.895963\n"
     ]
    }
   ],
   "source": [
    "# feature coefficeint analysis\n",
    "lr_coefficients = pd.DataFrame({\n",
    "    'Feature': features,\n",
    "    'Coefficient': log_reg.coef_[0]\n",
    "}).sort_values(by='Coefficient', ascending=False)\n",
    "print(lr_coefficients)"
   ]
  },
  {
   "cell_type": "markdown",
   "metadata": {},
   "source": [
    "## League Table Level Analysis and Predictions"
   ]
  },
  {
   "cell_type": "code",
   "execution_count": null,
   "metadata": {},
   "outputs": [
    {
     "name": "stdout",
     "output_type": "stream",
     "text": [
      "Percentage of Correctly Predicted Relative Positions: 91.05%\n",
      "Mean Squared Error (MSE) of League Positions: 2.70\n",
      "Mean Absolute Error (MAE) of League Positions: 1.10\n",
      "                Team  Actual_Rank  Predicted_Rank  Rank_Difference\n",
      "0           Man City            1             1.0              0.0\n",
      "1            Arsenal            2             2.0              0.0\n",
      "2          Liverpool            3             3.0              0.0\n",
      "7         Man United            8             8.0              0.0\n",
      "13            Wolves           14            14.0              0.0\n",
      "10          Brighton           11            11.0              0.0\n",
      "9     Crystal Palace           10             9.0              1.0\n",
      "15         Brentford           16            15.0              1.0\n",
      "6          Newcastle            7             5.0              2.0\n",
      "5            Chelsea            6             4.0              2.0\n",
      "4          Tottenham            5             7.0              2.0\n",
      "3        Aston Villa            4             6.0              2.0\n",
      "11       Bournemouth           12            10.0              2.0\n",
      "19  Sheffield United           20            18.0              2.0\n",
      "18           Burnley           19            17.0              2.0\n",
      "17             Luton           18            16.0              2.0\n",
      "12            Fulham           13            10.0              3.0\n",
      "14           Everton           15            12.0              3.0\n",
      "8           West Ham            9            13.0              4.0\n",
      "16     Nott'm Forest           17            13.0              4.0\n"
     ]
    }
   ],
   "source": [
    "import pandas as pd\n",
    "from itertools import combinations\n",
    "from sklearn.metrics import mean_squared_error, mean_absolute_error\n",
    "\n",
    "# Loading actual and predicted league tables\n",
    "actual_table = pd.read_csv('Tables/Actual_league_table.csv') \n",
    "predicted_table = league_table \n",
    "\n",
    "# Ensuring both tables contain the same teams\n",
    "common_teams = set(actual_table[\"Team\"]).intersection(set(predicted_table[\"Team\"]))\n",
    "actual_table = actual_table[actual_table[\"Team\"].isin(common_teams)]\n",
    "predicted_table = predicted_table[predicted_table[\"Team\"].isin(common_teams)]\n",
    "\n",
    "# Ranking teams based on points\n",
    "actual_table[\"Actual_Rank\"] = actual_table[\"Points\"].rank(ascending=False, method='dense')\n",
    "predicted_table[\"Predicted_Rank\"] = predicted_table[\"Points\"].rank(ascending=False, method='dense')\n",
    "\n",
    "# Merging actual and predicted rankings\n",
    "merged = actual_table.merge(predicted_table, on=\"Team\", how=\"inner\")\n",
    "\n",
    "# Sort teams by Points, then Goal Difference\n",
    "actual_table = actual_table.sort_values(by=['Points', 'GD'], ascending=[False, False])\n",
    "\n",
    "# Assign ranks correctly\n",
    "actual_table[\"Actual_Rank\"] = range(1, len(actual_table) + 1)\n",
    "\n",
    "# Calculate correctly predicted relative positions\n",
    "correct_pairs = 0\n",
    "total_pairs = 0\n",
    "\n",
    "for (team1, team2) in combinations(merged[\"Team\"], 2):\n",
    "    actual_diff = merged.loc[merged[\"Team\"] == team1, \"Actual_Rank\"].values[0] - merged.loc[merged[\"Team\"] == team2, \"Actual_Rank\"].values[0]\n",
    "    predicted_diff = merged.loc[merged[\"Team\"] == team1, \"Predicted_Rank\"].values[0] - merged.loc[merged[\"Team\"] == team2, \"Predicted_Rank\"].values[0]\n",
    "    \n",
    "    if (actual_diff > 0 and predicted_diff > 0) or (actual_diff < 0 and predicted_diff < 0) or (actual_diff == 0 and predicted_diff == 0):\n",
    "        correct_pairs += 1\n",
    "    total_pairs += 1\n",
    "\n",
    "percentage_correct_relative_positions = (correct_pairs / total_pairs) * 100\n",
    "print(f\"Percentage of Correctly Predicted Relative Positions: {percentage_correct_relative_positions:.2f}%\")\n",
    "\n",
    "# Compute MSE and MAE\n",
    "y_actual = merged[\"Actual_Rank\"]\n",
    "y_pred = merged[\"Predicted_Rank\"]\n",
    "\n",
    "mse_positions = mean_squared_error(y_actual, y_pred)\n",
    "mae_positions = mean_absolute_error(y_actual, y_pred)\n",
    "\n",
    "print(f\"Mean Squared Error (MSE) of League Positions: {mse_positions:.2f}\")\n",
    "print(f\"Mean Absolute Error (MAE) of League Positions: {mae_positions:.2f}\")\n",
    "\n",
    "# Merge actual and predicted tables on \"Team\"\n",
    "combined_table = actual_table.merge(predicted_table, on=\"Team\", how=\"inner\", suffixes=('_Actual', '_Predicted'))\n",
    "\n",
    "# Sort by Actual Rank\n",
    "combined_table = combined_table.sort_values(by=[\"Actual_Rank\"])\n",
    "\n",
    "\n",
    "combined_table[\"Rank_Difference\"] = abs(combined_table[\"Actual_Rank\"] - combined_table[\"Predicted_Rank\"])\n",
    "combined_table = combined_table.sort_values(by=\"Rank_Difference\", ascending=True)\n",
    "\n",
    "print(combined_table[[\"Team\", \"Actual_Rank\", \"Predicted_Rank\", \"Rank_Difference\"]])\n",
    "\n"
   ]
  },
  {
   "cell_type": "markdown",
   "metadata": {},
   "source": [
    "## Poisson Distribution for when teams are predicted in the same position"
   ]
  },
  {
   "cell_type": "markdown",
   "metadata": {},
   "source": [
    "#### Testing"
   ]
  },
  {
   "cell_type": "code",
   "execution_count": 27,
   "metadata": {},
   "outputs": [
    {
     "name": "stdout",
     "output_type": "stream",
     "text": [
      "All good! Ready for Poisson regression.\n"
     ]
    }
   ],
   "source": [
    "import statsmodels.api as sm\n",
    "import statsmodels.formula.api as smf\n",
    "\n",
    "print(\"All good! Ready for Poisson regression.\")\n"
   ]
  },
  {
   "cell_type": "markdown",
   "metadata": {},
   "source": [
    "### Re-structure league table accoring to goal difference"
   ]
  },
  {
   "cell_type": "code",
   "execution_count": null,
   "metadata": {},
   "outputs": [
    {
     "name": "stdout",
     "output_type": "stream",
     "text": [
      "\n",
      "Adjusted Table (with realistic GD tiebreaker):\n",
      "                Team  Actual_Rank  Predicted_Rank  Predicted_GD  Adjusted_Rank\n",
      "0           Man City            1             1.0     62.816955              1\n",
      "1            Arsenal            2             2.0     28.654346              2\n",
      "2          Liverpool            3             3.0     43.798029              3\n",
      "9            Chelsea            6             4.0     16.999924              4\n",
      "8          Newcastle            7             5.0      0.798635              5\n",
      "11       Aston Villa            4             6.0      0.196201              6\n",
      "10         Tottenham            5             7.0     17.204750              7\n",
      "3         Man United            8             8.0     14.600156              8\n",
      "6     Crystal Palace           10             9.0     -9.994649              9\n",
      "16            Fulham           13            10.0    -10.014170             10\n",
      "12       Bournemouth           12            10.0    -23.981500             11\n",
      "5           Brighton           11            11.0     -2.205916             12\n",
      "17           Everton           15            12.0    -13.986904             13\n",
      "18          West Ham            9            13.0     -3.203920             14\n",
      "19     Nott'm Forest           17            13.0    -23.963092             15\n",
      "4             Wolves           14            14.0    -10.385878             16\n",
      "7          Brentford           16            15.0     -1.655006             17\n",
      "15             Luton           18            16.0    -32.994185             18\n",
      "14           Burnley           19            17.0    -21.258054             19\n",
      "13  Sheffield United           20            18.0    -37.385027             20\n"
     ]
    }
   ],
   "source": [
    "# Create per-match team-level dataset\n",
    "home_df = data[['HomeTeam', 'AwayTeam', 'FTHG', 'FTAG']].copy()\n",
    "home_df.columns = ['Team', 'Opponent', 'GoalsFor', 'GoalsAgainst']\n",
    "home_df['Home'] = 1\n",
    "\n",
    "away_df = data[['AwayTeam', 'HomeTeam', 'FTAG', 'FTHG']].copy()\n",
    "away_df.columns = ['Team', 'Opponent', 'GoalsFor', 'GoalsAgainst']\n",
    "away_df['Home'] = 0\n",
    "\n",
    "team_match_df = pd.concat([home_df, away_df], ignore_index=True)\n",
    "\n",
    "# Encode team names for regression\n",
    "from sklearn.preprocessing import LabelEncoder\n",
    "\n",
    "le_team = LabelEncoder()\n",
    "le_opp = LabelEncoder()\n",
    "\n",
    "team_match_df['Team_enc'] = le_team.fit_transform(team_match_df['Team'])\n",
    "team_match_df['Opponent_enc'] = le_opp.fit_transform(team_match_df['Opponent'])\n",
    "\n",
    "# Fit Poisson regression models for GF and GA\n",
    "# Import PoissonRegressor from scikit-learn\n",
    "from sklearn.linear_model import PoissonRegressor\n",
    "\n",
    "# Define features and target variables\n",
    "X = pd.get_dummies(team_match_df[['Team', 'Opponent', 'Home']], columns=['Team', 'Opponent'], drop_first=True)\n",
    "y_gf = team_match_df['GoalsFor']\n",
    "y_ga = team_match_df['GoalsAgainst']\n",
    "\n",
    "# Poisson for Goals For\n",
    "model_gf = PoissonRegressor(alpha=1e-12, max_iter=1000)\n",
    "model_gf.fit(X, y_gf)\n",
    "team_match_df['Predicted_GF'] = model_gf.predict(X)\n",
    "\n",
    "# Poisson for Goals Against\n",
    "model_ga = PoissonRegressor(alpha=1e-12, max_iter=1000)\n",
    "model_ga.fit(X, y_ga)\n",
    "team_match_df['Predicted_GA'] = model_ga.predict(X)\n",
    "\n",
    "avg_preds = team_match_df.groupby('Team')[['Predicted_GF', 'Predicted_GA']].mean()\n",
    "season_predictions = avg_preds * 38  # Simulate a 38-match season\n",
    "season_predictions['Predicted_GD'] = season_predictions['Predicted_GF'] - season_predictions['Predicted_GA']\n",
    "\n",
    "# Merge GD and re-rank\n",
    "final_table = combined_table.merge(season_predictions[['Predicted_GD']], on='Team', how='left')\n",
    "final_table.sort_values(by=['Predicted_Rank', 'Predicted_GD'], ascending=[True, False], inplace=True)\n",
    "final_table['Adjusted_Rank'] = range(1, len(final_table) + 1)\n",
    "\n",
    "# View final adjusted league table\n",
    "print(\"\\nAdjusted Table (with realistic GD tiebreaker):\")\n",
    "print(final_table[['Team', 'Actual_Rank', 'Predicted_Rank', 'Predicted_GD', 'Adjusted_Rank']])\n"
   ]
  },
  {
   "cell_type": "markdown",
   "metadata": {},
   "source": [
    "### Performing new league table analaysis (MAE, MSE, RMSE)"
   ]
  },
  {
   "cell_type": "code",
   "execution_count": null,
   "metadata": {},
   "outputs": [
    {
     "name": "stdout",
     "output_type": "stream",
     "text": [
      "Percentage of Correctly Predicted Relative Positions: 92.11%\n",
      "Mean Squared Error (MSE) of League Positions: 3.30\n",
      "Mean Absolute Error (MAE) of League Positions: 1.30\n",
      "                Team  Actual_Rank  Adjusted_Rank  Rank_Difference\n",
      "0           Man City            1              1                0\n",
      "1            Arsenal            2              2                0\n",
      "2          Liverpool            3              3                0\n",
      "3         Man United            8              8                0\n",
      "14           Burnley           19             19                0\n",
      "13  Sheffield United           20             20                0\n",
      "15             Luton           18             18                0\n",
      "12       Bournemouth           12             11                1\n",
      "7          Brentford           16             17                1\n",
      "5           Brighton           11             12                1\n",
      "6     Crystal Palace           10              9                1\n",
      "17           Everton           15             13                2\n",
      "10         Tottenham            5              7                2\n",
      "11       Aston Villa            4              6                2\n",
      "8          Newcastle            7              5                2\n",
      "9            Chelsea            6              4                2\n",
      "19     Nott'm Forest           17             15                2\n",
      "4             Wolves           14             16                2\n",
      "16            Fulham           13             10                3\n",
      "18          West Ham            9             14                5\n"
     ]
    }
   ],
   "source": [
    "from sklearn.metrics import mean_squared_error, mean_absolute_error\n",
    "from itertools import combinations\n",
    "import pandas as pd\n",
    "\n",
    "# Calculate metrics\n",
    "y_actual = final_table[\"Actual_Rank\"]\n",
    "y_pred = final_table[\"Adjusted_Rank\"]\n",
    "\n",
    "mse_positions = mean_squared_error(y_actual, y_pred)\n",
    "mae_positions = mean_absolute_error(y_actual, y_pred)\n",
    "\n",
    "# Calculate  predicted relative positions\n",
    "correct_pairs = 0\n",
    "total_pairs = 0\n",
    "\n",
    "for team1, team2 in combinations(final_table[\"Team\"], 2):\n",
    "    actual_diff = final_table.loc[final_table[\"Team\"] == team1, \"Actual_Rank\"].values[0] - \\\n",
    "                  final_table.loc[final_table[\"Team\"] == team2, \"Actual_Rank\"].values[0]\n",
    "    predicted_diff = final_table.loc[final_table[\"Team\"] == team1, \"Adjusted_Rank\"].values[0] - \\\n",
    "                     final_table.loc[final_table[\"Team\"] == team2, \"Adjusted_Rank\"].values[0]\n",
    "\n",
    "    if (actual_diff > 0 and predicted_diff > 0) or \\\n",
    "       (actual_diff < 0 and predicted_diff < 0) or \\\n",
    "       (actual_diff == 0 and predicted_diff == 0):\n",
    "        correct_pairs += 1\n",
    "    total_pairs += 1\n",
    "\n",
    "percentage_correct_relative_positions = (correct_pairs / total_pairs) * 100\n",
    "\n",
    "print(f\"Percentage of Correctly Predicted Relative Positions: {percentage_correct_relative_positions:.2f}%\")\n",
    "print(f\"Mean Squared Error (MSE) of League Positions: {mse_positions:.2f}\")\n",
    "print(f\"Mean Absolute Error (MAE) of League Positions: {mae_positions:.2f}\")\n",
    "\n",
    "# Create and display detailed rank comparison\n",
    "final_table['Rank_Difference'] = abs(final_table['Actual_Rank'] - final_table['Adjusted_Rank'])\n",
    "final_table_sorted = final_table.sort_values(by='Rank_Difference')\n",
    "\n",
    "print(final_table_sorted[['Team', 'Actual_Rank', 'Adjusted_Rank', 'Rank_Difference']])\n"
   ]
  }
 ],
 "metadata": {
  "kernelspec": {
   "display_name": "aci",
   "language": "python",
   "name": "python3"
  },
  "language_info": {
   "codemirror_mode": {
    "name": "ipython",
    "version": 3
   },
   "file_extension": ".py",
   "mimetype": "text/x-python",
   "name": "python",
   "nbconvert_exporter": "python",
   "pygments_lexer": "ipython3",
   "version": "3.10.16"
  }
 },
 "nbformat": 4,
 "nbformat_minor": 2
}
